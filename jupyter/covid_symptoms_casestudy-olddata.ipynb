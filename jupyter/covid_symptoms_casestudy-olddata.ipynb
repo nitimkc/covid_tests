{
 "cells": [
  {
   "cell_type": "code",
   "execution_count": 1,
   "metadata": {},
   "outputs": [],
   "source": [
    "from pathlib import Path\n",
    "import pandas as pd\n",
    "import json\n",
    "import numpy as np\n",
    "# import shap"
   ]
  },
  {
   "cell_type": "code",
   "execution_count": 2,
   "metadata": {},
   "outputs": [],
   "source": [
    "PATH = Path(r'C:\\Users\\niti.mishra\\Documents\\2_TDMDAL\\projects\\covid_tests\\covid_tests')\n",
    "# PATH = Path(r'/Users/peaceforlives/Documents/Projects/covid_symptoms')\n",
    "DATA = Path.joinpath(PATH, 'data', 'old')\n",
    "RESULTS = Path.joinpath(PATH, 'results')"
   ]
  },
  {
   "cell_type": "markdown",
   "metadata": {},
   "source": [
    "## DATA ##"
   ]
  },
  {
   "cell_type": "code",
   "execution_count": 17,
   "metadata": {},
   "outputs": [],
   "source": [
    "covid_data = pd.read_csv(Path.joinpath(DATA, 'RawData_IMOH_Sep_20.csv')) "
   ]
  },
  {
   "cell_type": "code",
   "execution_count": 18,
   "metadata": {},
   "outputs": [],
   "source": [
    "y = covid_data['testresult']\n",
    "cols = ['cough', 'fever', 'sore_throat', 'shortness_of_breath', 'head_ache', 'sixtiesplus', 'Gender', 'contact', 'abroad', 'Validation']\n",
    "covid_data = covid_data[cols]"
   ]
  },
  {
   "cell_type": "code",
   "execution_count": 19,
   "metadata": {},
   "outputs": [
    {
     "data": {
      "text/html": [
       "<div>\n",
       "<style scoped>\n",
       "    .dataframe tbody tr th:only-of-type {\n",
       "        vertical-align: middle;\n",
       "    }\n",
       "\n",
       "    .dataframe tbody tr th {\n",
       "        vertical-align: top;\n",
       "    }\n",
       "\n",
       "    .dataframe thead th {\n",
       "        text-align: right;\n",
       "    }\n",
       "</style>\n",
       "<table border=\"1\" class=\"dataframe\">\n",
       "  <thead>\n",
       "    <tr style=\"text-align: right;\">\n",
       "      <th></th>\n",
       "      <th>cough</th>\n",
       "      <th>fever</th>\n",
       "      <th>sore_throat</th>\n",
       "      <th>shortness_of_breath</th>\n",
       "      <th>head_ache</th>\n",
       "      <th>sixtiesplus</th>\n",
       "      <th>Gender</th>\n",
       "      <th>contact</th>\n",
       "      <th>abroad</th>\n",
       "    </tr>\n",
       "    <tr>\n",
       "      <th>Validation</th>\n",
       "      <th></th>\n",
       "      <th></th>\n",
       "      <th></th>\n",
       "      <th></th>\n",
       "      <th></th>\n",
       "      <th></th>\n",
       "      <th></th>\n",
       "      <th></th>\n",
       "      <th></th>\n",
       "    </tr>\n",
       "  </thead>\n",
       "  <tbody>\n",
       "    <tr>\n",
       "      <th>Training</th>\n",
       "      <td>0</td>\n",
       "      <td>1</td>\n",
       "      <td>0</td>\n",
       "      <td>0</td>\n",
       "      <td>0</td>\n",
       "      <td>1</td>\n",
       "      <td>1</td>\n",
       "      <td>0</td>\n",
       "      <td>0</td>\n",
       "    </tr>\n",
       "    <tr>\n",
       "      <th>Validation</th>\n",
       "      <td>0</td>\n",
       "      <td>1</td>\n",
       "      <td>0</td>\n",
       "      <td>0</td>\n",
       "      <td>0</td>\n",
       "      <td>0</td>\n",
       "      <td>0</td>\n",
       "      <td>0</td>\n",
       "      <td>0</td>\n",
       "    </tr>\n",
       "    <tr>\n",
       "      <th>Test</th>\n",
       "      <td>1</td>\n",
       "      <td>0</td>\n",
       "      <td>0</td>\n",
       "      <td>0</td>\n",
       "      <td>1</td>\n",
       "      <td>0</td>\n",
       "      <td>1</td>\n",
       "      <td>0</td>\n",
       "      <td>0</td>\n",
       "    </tr>\n",
       "    <tr>\n",
       "      <th>Test</th>\n",
       "      <td>1</td>\n",
       "      <td>0</td>\n",
       "      <td>0</td>\n",
       "      <td>0</td>\n",
       "      <td>0</td>\n",
       "      <td>0</td>\n",
       "      <td>0</td>\n",
       "      <td>1</td>\n",
       "      <td>0</td>\n",
       "    </tr>\n",
       "    <tr>\n",
       "      <th>Training</th>\n",
       "      <td>0</td>\n",
       "      <td>0</td>\n",
       "      <td>0</td>\n",
       "      <td>0</td>\n",
       "      <td>1</td>\n",
       "      <td>0</td>\n",
       "      <td>1</td>\n",
       "      <td>0</td>\n",
       "      <td>0</td>\n",
       "    </tr>\n",
       "  </tbody>\n",
       "</table>\n",
       "</div>"
      ],
      "text/plain": [
       "            cough  fever  sore_throat  shortness_of_breath  head_ache  \\\n",
       "Validation                                                              \n",
       "Training        0      1            0                    0          0   \n",
       "Validation      0      1            0                    0          0   \n",
       "Test            1      0            0                    0          1   \n",
       "Test            1      0            0                    0          0   \n",
       "Training        0      0            0                    0          1   \n",
       "\n",
       "            sixtiesplus  Gender  contact  abroad  \n",
       "Validation                                        \n",
       "Training              1       1        0       0  \n",
       "Validation            0       0        0       0  \n",
       "Test                  0       1        0       0  \n",
       "Test                  0       0        1       0  \n",
       "Training              0       1        0       0  "
      ]
     },
     "execution_count": 19,
     "metadata": {},
     "output_type": "execute_result"
    }
   ],
   "source": [
    "covid_data.index = covid_data['Validation']\n",
    "covid_data.drop('Validation', inplace=True, axis=1)\n",
    "covid_data.head()"
   ]
  },
  {
   "cell_type": "code",
   "execution_count": 11,
   "metadata": {},
   "outputs": [],
   "source": [
    "test = list(covid_data.sum(axis=1))"
   ]
  },
  {
   "cell_type": "code",
   "execution_count": 17,
   "metadata": {},
   "outputs": [
    {
     "data": {
      "text/plain": [
       "Counter({1: 47238, 0: 35681})"
      ]
     },
     "execution_count": 17,
     "metadata": {},
     "output_type": "execute_result"
    }
   ],
   "source": [
    "from collections import Counter\n",
    "\n",
    "Counter(y)"
   ]
  },
  {
   "cell_type": "code",
   "execution_count": 21,
   "metadata": {},
   "outputs": [
    {
     "data": {
      "text/plain": [
       "1    56.968849\n",
       "0    43.031151\n",
       "Name: testresult, dtype: float64"
      ]
     },
     "execution_count": 21,
     "metadata": {},
     "output_type": "execute_result"
    }
   ],
   "source": [
    "(y.value_counts()/len(y))*100"
   ]
  },
  {
   "cell_type": "code",
   "execution_count": 22,
   "metadata": {},
   "outputs": [],
   "source": [
    "test = {'cough': '0', 'fever': '1'}\n",
    "\n",
    "# [[key for key in test[0].keys()], *[list(idx.values()) for idx in test]]"
   ]
  },
  {
   "cell_type": "code",
   "execution_count": 23,
   "metadata": {},
   "outputs": [
    {
     "name": "stdout",
     "output_type": "stream",
     "text": [
      "{'cough': '0',\n",
      "'fever': '1',}\n"
     ]
    }
   ],
   "source": [
    "print(\"{\" + \"\\n\".join(\"{!r}: {!r},\".format(k, v) for k, v in test.items()) + \"}\")"
   ]
  },
  {
   "cell_type": "code",
   "execution_count": 24,
   "metadata": {},
   "outputs": [],
   "source": [
    "train = covid_data.index.get_loc('Training')\n",
    "valid = covid_data.index.get_loc('Validation')\n",
    "test = covid_data.index.get_loc('Test')"
   ]
  },
  {
   "cell_type": "code",
   "execution_count": 25,
   "metadata": {},
   "outputs": [
    {
     "name": "stdout",
     "output_type": "stream",
     "text": [
      "41464\n",
      "20744\n",
      "20711\n"
     ]
    }
   ],
   "source": [
    "X_train = covid_data[train].values.tolist()\n",
    "y_train = y[train].values.tolist()\n",
    "print(len(y_train))\n",
    "\n",
    "X_valid = covid_data[valid].values.tolist()\n",
    "y_valid = y[valid].values.tolist()\n",
    "print(len(y_valid))\n",
    "\n",
    "X_test = covid_data[test].values.tolist()\n",
    "y_test = y[test].values.tolist()\n",
    "print(len(y_test))"
   ]
  },
  {
   "cell_type": "code",
   "execution_count": 22,
   "metadata": {},
   "outputs": [],
   "source": [
    "import numpy as np\n",
    "import time\n",
    "from sklearn.pipeline import Pipeline\n",
    "from sklearn.model_selection import PredefinedSplit\n",
    "from sklearn.model_selection import GridSearchCV\n",
    "from sklearn.linear_model import LogisticRegression\n",
    "from sklearn.ensemble import RandomForestClassifier\n",
    "from sklearn.ensemble import GradientBoostingClassifier\n",
    "\n",
    "from sklearn.metrics import accuracy_score, precision_score, recall_score, f1_score, auc, roc_auc_score\n",
    "\n"
   ]
  },
  {
   "cell_type": "code",
   "execution_count": 20,
   "metadata": {},
   "outputs": [],
   "source": [
    "parameters = [\n",
    "    {'n_estimators':range(20,81,10),\n",
    "        'max_depth':range(5,16,2), \n",
    "        'max_features':range(7,20,2),\n",
    "        'min_samples_split':range(200,1001,200),\n",
    "        'learning_rate':[.001,0.01,.1],\n",
    "        'subsample':[0.6,0.7,0.75,0.8,0.85,0.9],\n",
    "        }\n",
    "]"
   ]
  },
  {
   "cell_type": "code",
   "execution_count": 32,
   "metadata": {},
   "outputs": [
    {
     "data": {
      "text/plain": [
       "0.7787989969376632"
      ]
     },
     "execution_count": 32,
     "metadata": {},
     "output_type": "execute_result"
    }
   ],
   "source": [
    "rf = RandomForestClassifier(max_depth=10, min_samples_leaf=4,\n",
    "                                        min_samples_split=10,\n",
    "                                        random_state=42)\n",
    "rf.fit(X_train, y_train)\n",
    "y_pred = rf.predict(X_test)\n",
    "roc_auc_score(y_test, y_pred)"
   ]
  },
  {
   "cell_type": "code",
   "execution_count": null,
   "metadata": {},
   "outputs": [],
   "source": [
    "y_pred = rf.predict(X_test)\n",
    "roc_auc_score(y_test, y_pred)"
   ]
  },
  {
   "cell_type": "code",
   "execution_count": 119,
   "metadata": {},
   "outputs": [
    {
     "data": {
      "text/plain": [
       "LogisticRegression(penalty='none', random_state=42)"
      ]
     },
     "execution_count": 119,
     "metadata": {},
     "output_type": "execute_result"
    }
   ],
   "source": [
    "lr = LogisticRegression(random_state=42, penalty='none')\n",
    "lr.fit(X_train, y_train)"
   ]
  },
  {
   "cell_type": "code",
   "execution_count": 121,
   "metadata": {},
   "outputs": [
    {
     "data": {
      "text/plain": [
       "0.7743491881068725"
      ]
     },
     "execution_count": 121,
     "metadata": {},
     "output_type": "execute_result"
    }
   ],
   "source": [
    "y_pred = lr.predict(X_test)\n",
    "roc_auc_score(y_test, y_pred)"
   ]
  },
  {
   "cell_type": "code",
   "execution_count": 122,
   "metadata": {},
   "outputs": [
    {
     "data": {
      "text/plain": [
       "array([[-0.78111456,  0.46842223,  0.87043669,  1.03072509,  1.27444187,\n",
       "         0.3634671 , -0.10938874,  0.61187191, -2.49559097]])"
      ]
     },
     "execution_count": 122,
     "metadata": {},
     "output_type": "execute_result"
    }
   ],
   "source": [
    "lr.coef_"
   ]
  },
  {
   "cell_type": "code",
   "execution_count": 20,
   "metadata": {},
   "outputs": [],
   "source": [
    "# # rename columns\n",
    "# cols = ['test_date']\n",
    "# cols.extend(covid_data.columns[1:] )\n",
    "# covid_data.columns = cols\n",
    "\n",
    "# # select columns\n",
    "# cols = ['test_date', 'cough', 'fever', 'sore_throat', 'shortness_of_breath', 'head_ache',\n",
    "#         'testresult', 'sixtiesplus', 'Gender', 'contact', 'abroad', 'Validation']\n",
    "# covid_data = covid_data[cols]\n",
    "\n",
    "# covid_data['test_date'] = pd.to_datetime(covid_data['test_date'], format='%Y-%m-%d')\n",
    "\n",
    "# covid_data.head()"
   ]
  },
  {
   "cell_type": "markdown",
   "metadata": {},
   "source": [
    "## RESULTS ##"
   ]
  },
  {
   "cell_type": "code",
   "execution_count": 8,
   "metadata": {},
   "outputs": [
    {
     "data": {
      "text/plain": [
       "'C:\\\\Users\\\\niti.mishra\\\\Documents\\\\2_TDMDAL\\\\projects\\\\covid_tests\\\\covid_tests\\\\results\\\\results.json'"
      ]
     },
     "execution_count": 8,
     "metadata": {},
     "output_type": "execute_result"
    }
   ],
   "source": [
    "RESULTS = Path.joinpath(PATH, 'results') #, 'no_missingdata',)\n",
    "str(RESULTS)+'\\\\results.json'"
   ]
  },
  {
   "cell_type": "code",
   "execution_count": 9,
   "metadata": {},
   "outputs": [],
   "source": [
    "res = pd.read_json(str(RESULTS)+'\\\\results.json', orient='records', lines=True)"
   ]
  },
  {
   "cell_type": "code",
   "execution_count": 10,
   "metadata": {},
   "outputs": [],
   "source": [
    "res.set_index('time', inplace=True)"
   ]
  },
  {
   "cell_type": "code",
   "execution_count": 11,
   "metadata": {
    "scrolled": true
   },
   "outputs": [
    {
     "data": {
      "text/html": [
       "<div>\n",
       "<style scoped>\n",
       "    .dataframe tbody tr th:only-of-type {\n",
       "        vertical-align: middle;\n",
       "    }\n",
       "\n",
       "    .dataframe tbody tr th {\n",
       "        vertical-align: top;\n",
       "    }\n",
       "\n",
       "    .dataframe thead th {\n",
       "        text-align: right;\n",
       "    }\n",
       "</style>\n",
       "<table border=\"1\" class=\"dataframe\">\n",
       "  <thead>\n",
       "    <tr style=\"text-align: right;\">\n",
       "      <th></th>\n",
       "      <th>name</th>\n",
       "      <th>model</th>\n",
       "      <th>size</th>\n",
       "      <th>accuracy</th>\n",
       "      <th>precision</th>\n",
       "      <th>recall</th>\n",
       "      <th>auc</th>\n",
       "      <th>f1_test</th>\n",
       "      <th>coef</th>\n",
       "    </tr>\n",
       "    <tr>\n",
       "      <th>time</th>\n",
       "      <th></th>\n",
       "      <th></th>\n",
       "      <th></th>\n",
       "      <th></th>\n",
       "      <th></th>\n",
       "      <th></th>\n",
       "      <th></th>\n",
       "      <th></th>\n",
       "      <th></th>\n",
       "    </tr>\n",
       "  </thead>\n",
       "  <tbody>\n",
       "    <tr>\n",
       "      <th>3.139770</th>\n",
       "      <td>LogisticRegression</td>\n",
       "      <td>LogisticRegression(C=0.31622776601683794, rand...</td>\n",
       "      <td>[54064, 27022, 27015]</td>\n",
       "      <td>0.804331</td>\n",
       "      <td>0.805835</td>\n",
       "      <td>0.804331</td>\n",
       "      <td>0.867050</td>\n",
       "      <td>0.804419</td>\n",
       "      <td>[0.18086648430125002, -0.74244441760028, 0.481...</td>\n",
       "    </tr>\n",
       "    <tr>\n",
       "      <th>184.635613</th>\n",
       "      <td>RandomForestClassifier</td>\n",
       "      <td>RandomForestClassifier(max_depth=10, min_sampl...</td>\n",
       "      <td>[54064, 27022, 27015]</td>\n",
       "      <td>0.806293</td>\n",
       "      <td>0.807668</td>\n",
       "      <td>0.806293</td>\n",
       "      <td>0.877194</td>\n",
       "      <td>0.806383</td>\n",
       "      <td>[None]</td>\n",
       "    </tr>\n",
       "    <tr>\n",
       "      <th>8134.301625</th>\n",
       "      <td>SVC</td>\n",
       "      <td>SVC(C=0.01, gamma=0.1, probability=True, rando...</td>\n",
       "      <td>[54064, 27022, 27015]</td>\n",
       "      <td>0.801888</td>\n",
       "      <td>0.802470</td>\n",
       "      <td>0.801888</td>\n",
       "      <td>0.868395</td>\n",
       "      <td>0.801977</td>\n",
       "      <td>[None]</td>\n",
       "    </tr>\n",
       "    <tr>\n",
       "      <th>210.018007</th>\n",
       "      <td>GradientBoostingClassifier</td>\n",
       "      <td>GradientBoostingClassifier(max_depth=9, max_fe...</td>\n",
       "      <td>[54064, 27022, 27015]</td>\n",
       "      <td>0.807292</td>\n",
       "      <td>0.808263</td>\n",
       "      <td>0.807292</td>\n",
       "      <td>0.877885</td>\n",
       "      <td>0.807387</td>\n",
       "      <td>[None]</td>\n",
       "    </tr>\n",
       "    <tr>\n",
       "      <th>324.349429</th>\n",
       "      <td>2 layer NN</td>\n",
       "      <td>{'clf__batch_size': 100, 'clf__epochs': 25}</td>\n",
       "      <td>[54064, 27022, 27015]</td>\n",
       "      <td>0.805886</td>\n",
       "      <td>0.807257</td>\n",
       "      <td>0.805886</td>\n",
       "      <td>0.877252</td>\n",
       "      <td>0.805976</td>\n",
       "      <td>[None]</td>\n",
       "    </tr>\n",
       "  </tbody>\n",
       "</table>\n",
       "</div>"
      ],
      "text/plain": [
       "                                   name  \\\n",
       "time                                      \n",
       "3.139770             LogisticRegression   \n",
       "184.635613       RandomForestClassifier   \n",
       "8134.301625                         SVC   \n",
       "210.018007   GradientBoostingClassifier   \n",
       "324.349429                   2 layer NN   \n",
       "\n",
       "                                                         model  \\\n",
       "time                                                             \n",
       "3.139770     LogisticRegression(C=0.31622776601683794, rand...   \n",
       "184.635613   RandomForestClassifier(max_depth=10, min_sampl...   \n",
       "8134.301625  SVC(C=0.01, gamma=0.1, probability=True, rando...   \n",
       "210.018007   GradientBoostingClassifier(max_depth=9, max_fe...   \n",
       "324.349429         {'clf__batch_size': 100, 'clf__epochs': 25}   \n",
       "\n",
       "                              size  accuracy  precision    recall       auc  \\\n",
       "time                                                                          \n",
       "3.139770     [54064, 27022, 27015]  0.804331   0.805835  0.804331  0.867050   \n",
       "184.635613   [54064, 27022, 27015]  0.806293   0.807668  0.806293  0.877194   \n",
       "8134.301625  [54064, 27022, 27015]  0.801888   0.802470  0.801888  0.868395   \n",
       "210.018007   [54064, 27022, 27015]  0.807292   0.808263  0.807292  0.877885   \n",
       "324.349429   [54064, 27022, 27015]  0.805886   0.807257  0.805886  0.877252   \n",
       "\n",
       "              f1_test                                               coef  \n",
       "time                                                                      \n",
       "3.139770     0.804419  [0.18086648430125002, -0.74244441760028, 0.481...  \n",
       "184.635613   0.806383                                             [None]  \n",
       "8134.301625  0.801977                                             [None]  \n",
       "210.018007   0.807387                                             [None]  \n",
       "324.349429   0.805976                                             [None]  "
      ]
     },
     "execution_count": 11,
     "metadata": {},
     "output_type": "execute_result"
    }
   ],
   "source": [
    "res"
   ]
  },
  {
   "cell_type": "code",
   "execution_count": 13,
   "metadata": {},
   "outputs": [],
   "source": [
    "res.to_clipboard()"
   ]
  },
  {
   "cell_type": "markdown",
   "metadata": {},
   "source": [
    "## SHAPLEY VALUE ##"
   ]
  },
  {
   "cell_type": "code",
   "execution_count": 33,
   "metadata": {},
   "outputs": [
    {
     "ename": "ModuleNotFoundError",
     "evalue": "No module named 'shap'",
     "output_type": "error",
     "traceback": [
      "\u001b[0;31m---------------------------------------------------------------------------\u001b[0m",
      "\u001b[0;31mModuleNotFoundError\u001b[0m                       Traceback (most recent call last)",
      "\u001b[0;32m<ipython-input-33-efbb001a1501>\u001b[0m in \u001b[0;36m<module>\u001b[0;34m\u001b[0m\n\u001b[0;32m----> 1\u001b[0;31m \u001b[0;32mimport\u001b[0m \u001b[0mshap\u001b[0m\u001b[0;34m\u001b[0m\u001b[0;34m\u001b[0m\u001b[0m\n\u001b[0m",
      "\u001b[0;31mModuleNotFoundError\u001b[0m: No module named 'shap'"
     ]
    }
   ],
   "source": [
    "import shap"
   ]
  },
  {
   "cell_type": "code",
   "execution_count": null,
   "metadata": {},
   "outputs": [],
   "source": []
  }
 ],
 "metadata": {
  "kernelspec": {
   "display_name": "Python 3",
   "language": "python",
   "name": "python3"
  },
  "language_info": {
   "codemirror_mode": {
    "name": "ipython",
    "version": 3
   },
   "file_extension": ".py",
   "mimetype": "text/x-python",
   "name": "python",
   "nbconvert_exporter": "python",
   "pygments_lexer": "ipython3",
   "version": "3.7.3"
  }
 },
 "nbformat": 4,
 "nbformat_minor": 4
}
